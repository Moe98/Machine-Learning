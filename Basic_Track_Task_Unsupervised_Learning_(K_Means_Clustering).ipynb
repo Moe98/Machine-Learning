{
  "nbformat": 4,
  "nbformat_minor": 0,
  "metadata": {
    "colab": {
      "name": "Basic Track Task-Unsupervised Learning (K-Means Clustering).ipynb",
      "version": "0.3.2",
      "provenance": [],
      "collapsed_sections": []
    },
    "kernelspec": {
      "name": "python3",
      "display_name": "Python 3"
    }
  },
  "cells": [
    {
      "metadata": {
        "id": "W6Sp8dEq9tz6",
        "colab_type": "code",
        "colab": {}
      },
      "cell_type": "code",
      "source": [
        "import numpy as np\n",
        "import matplotlib.pyplot as plt\n",
        "from sklearn.cluster import KMeans\n",
        "from sklearn.datasets import make_blobs\n",
        "from mpl_toolkits.mplot3d import Axes3D\n",
        "from sklearn.preprocessing import scale"
      ],
      "execution_count": 0,
      "outputs": []
    },
    {
      "metadata": {
        "id": "xbBwKk0j980A",
        "colab_type": "text"
      },
      "cell_type": "markdown",
      "source": [
        "Importing the libraries that we will use"
      ]
    },
    {
      "metadata": {
        "id": "tjiHoFQ_9-0I",
        "colab_type": "code",
        "colab": {}
      },
      "cell_type": "code",
      "source": [
        "X,y=make_blobs(n_samples=100, n_features=3, centers=3, cluster_std=1.0, center_box=(-10.0, 10.0), shuffle=True, random_state=None)\n",
        "\n",
        "colors=[\"b\",\"g\",\"r\",\"c\",\"k\"]"
      ],
      "execution_count": 0,
      "outputs": []
    },
    {
      "metadata": {
        "id": "HLRp5KcC_g_i",
        "colab_type": "text"
      },
      "cell_type": "markdown",
      "source": [
        "Creating a blob of 100 samples and 3 features"
      ]
    },
    {
      "metadata": {
        "id": "83JmWo6p-l7f",
        "colab_type": "code",
        "outputId": "709305e2-3725-4c85-ea6e-bb37b64590af",
        "colab": {
          "base_uri": "https://localhost:8080/",
          "height": 347
        }
      },
      "cell_type": "code",
      "source": [
        "plt.scatter(X[:,0],X[:,1])\n",
        "plt.show()"
      ],
      "execution_count": 0,
      "outputs": [
        {
          "output_type": "display_data",
          "data": {
            "image/png": "[encoded data removed]",
            "text/plain": [
              "<Figure size 576x396 with 1 Axes>"
            ]
          },
          "metadata": {
            "tags": []
          }
        }
      ]
    },
    {
      "metadata": {
        "id": "qzjfzYDKDAjm",
        "colab_type": "text"
      },
      "cell_type": "markdown",
      "source": [
        "Plotting the samples and as we can see there are 3 clusters"
      ]
    },
    {
      "metadata": {
        "id": "7eBDw19VDIRH",
        "colab_type": "code",
        "colab": {}
      },
      "cell_type": "code",
      "source": [
        "class K_Means:\n",
        "  def __init__(self,k,tol=0.0001,max_iter=300): #tol->how much the centroid is gonna move; max_iter->max iterations that will run 300 should be enough\n",
        "    self.k=k\n",
        "    self.tol=tol\n",
        "    self.max_iter=max_iter\n",
        "    \n",
        "  def fit(self,data):\n",
        "    self.centroids={}\n",
        "    \n",
        "    for i in range(self.k):\n",
        "      self.centroids[i]=data[i] #centroids will be the first 2 data points initially\n",
        "      \n",
        "    for i in range(self.max_iter):\n",
        "      self.classifications={}\n",
        "      \n",
        "      for i in range(self.k):\n",
        "        self.classifications[i]=[]\n",
        "        \n",
        "      for featureset in X:\n",
        "        distances=[np.linalg.norm(featureset-self.centroids[centroid]) for centroid in self.centroids]\n",
        "        classification=distances.index(min(distances))\n",
        "        self.classifications[classification].append(featureset)\n",
        "        \n",
        "      prev_centroids=dict(self.centroids) #dict so that it wont keep changing everytime self.centroids changes //OOP\n",
        "      \n",
        "      for classification in self.classifications:\n",
        "        self.centroids[classification]=np.average(self.classifications[classification],axis=0) #average of all classifications and redefining the centroid\n",
        "        \n",
        "      optimized=True\n",
        "      for c in self.centroids:\n",
        "        original_centroid=prev_centroids[c]\n",
        "        current_centroid = self.centroids[c]\n",
        "        if np.sum((current_centroid-original_centroid)/original_centroid*100.0)>self.tol:\n",
        "          optimized=False\n",
        "      \n",
        "      if optimized:\n",
        "        break\n",
        "      \n",
        "  \n",
        "  def predict(self,data):\n",
        "    distances=[np.linalg.norm(data-self.centroids[centroid]) for centroid in self.centroids]\n",
        "    classification=distances.index(min(distances))\n",
        "    return classification\n",
        "  \n",
        "    "
      ],
      "execution_count": 0,
      "outputs": []
    },
    {
      "metadata": {
        "id": "o_8kvhs5HHPF",
        "colab_type": "code",
        "colab": {}
      },
      "cell_type": "code",
      "source": [
        "k=3\n",
        "clf = K_Means(k)\n",
        "clf.fit(X)"
      ],
      "execution_count": 0,
      "outputs": []
    },
    {
      "metadata": {
        "id": "JRASTG3mHMoD",
        "colab_type": "code",
        "outputId": "e8059219-e1ad-424a-c08e-544701ea4583",
        "colab": {
          "base_uri": "https://localhost:8080/",
          "height": 347
        }
      },
      "cell_type": "code",
      "source": [
        "for centroid in clf.centroids:\n",
        "  plt.scatter(clf.centroids[centroid][0],clf.centroids[centroid][1], marker=\"o\",linewidths=5)\n",
        "  \n",
        "plt.show()"
      ],
      "execution_count": 0,
      "outputs": [
        {
          "output_type": "display_data",
          "data": {
            "image/png": "[encoded data removed]",
            "text/plain": [
              "<Figure size 576x396 with 1 Axes>"
            ]
          },
          "metadata": {
            "tags": []
          }
        }
      ]
    },
    {
      "metadata": {
        "id": "1r9fC5WZIPSA",
        "colab_type": "text"
      },
      "cell_type": "markdown",
      "source": [
        "gets the centers and plots them"
      ]
    },
    {
      "metadata": {
        "id": "gN3wrbBAHubT",
        "colab_type": "code",
        "outputId": "0abb246d-7c0a-43f4-ce40-7a9afabb2e65",
        "colab": {
          "base_uri": "https://localhost:8080/",
          "height": 347
        }
      },
      "cell_type": "code",
      "source": [
        "#for centroid in clf.centroids:\n",
        "  #plt.scatter(clf.centroids[centroid][0],clf.centroids[centroid][1], marker=\"o\",linewidths=5)\n",
        "\n",
        "for classification in clf.classifications:\n",
        "  color=colors[classification]\n",
        "  #print(colors[classification])\n",
        "  for featureset in clf.classifications[classification]:\n",
        "    plt.scatter(featureset[0],featureset[1],marker='x',color=color,linewidth=5)\n",
        "\n",
        "plt.show()"
      ],
      "execution_count": 0,
      "outputs": [
        {
          "output_type": "display_data",
          "data": {
            "image/png": "[encoded data removed]",
            "text/plain": [
              "<Figure size 576x396 with 1 Axes>"
            ]
          },
          "metadata": {
            "tags": []
          }
        }
      ]
    }
  ]
}